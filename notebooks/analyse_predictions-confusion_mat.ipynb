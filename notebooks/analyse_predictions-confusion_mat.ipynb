{
 "cells": [
  {
   "cell_type": "markdown",
   "metadata": {},
   "source": [
    "### Load config file"
   ]
  },
  {
   "cell_type": "code",
   "execution_count": 1,
   "metadata": {},
   "outputs": [],
   "source": [
    "config_file_path = \"../configs/config_model1.json\""
   ]
  },
  {
   "cell_type": "code",
   "execution_count": 2,
   "metadata": {},
   "outputs": [],
   "source": [
    "import os\n",
    "import sys\n",
    "import pickle\n",
    "import numpy as np\n",
    "from pprint import pprint\n",
    "\n",
    "sys.path.insert(0, \"../\")\n",
    "\n",
    "from utils import load_json_config\n",
    "\n",
    "# imports for displaying a video an IPython cell\n",
    "import io\n",
    "import base64\n",
    "from IPython.display import HTML"
   ]
  },
  {
   "cell_type": "code",
   "execution_count": 3,
   "metadata": {},
   "outputs": [],
   "source": [
    "# Load config file\n",
    "config = load_json_config(config_file_path)"
   ]
  },
  {
   "cell_type": "markdown",
   "metadata": {},
   "source": [
    "### Get predictions"
   ]
  },
  {
   "cell_type": "code",
   "execution_count": 4,
   "metadata": {},
   "outputs": [],
   "source": [
    "prediction_file_pickle_path = os.path.join('../', config['output_dir'], config['model_name'], 'test_results.pkl')"
   ]
  },
  {
   "cell_type": "code",
   "execution_count": 5,
   "metadata": {},
   "outputs": [],
   "source": [
    "with open(prediction_file_pickle_path, 'rb') as fp:\n",
    "    logits_matrix, features_matrix, targets_list, item_id_list, class_to_idx = pickle.load(fp)"
   ]
  },
  {
   "cell_type": "code",
   "execution_count": 6,
   "metadata": {},
   "outputs": [
    {
     "data": {
      "text/plain": [
       "(24777, 174)"
      ]
     },
     "execution_count": 6,
     "metadata": {},
     "output_type": "execute_result"
    }
   ],
   "source": [
    "logits_matrix.shape"
   ]
  },
  {
   "cell_type": "code",
   "execution_count": 7,
   "metadata": {},
   "outputs": [
    {
     "data": {
      "text/plain": [
       "(24777,)"
      ]
     },
     "execution_count": 7,
     "metadata": {},
     "output_type": "execute_result"
    }
   ],
   "source": [
    "targets_list.shape"
   ]
  },
  {
   "cell_type": "markdown",
   "metadata": {},
   "source": [
    "### Get confusion matrix"
   ]
  },
  {
   "cell_type": "code",
   "execution_count": 8,
   "metadata": {},
   "outputs": [],
   "source": [
    "from sklearn.metrics import confusion_matrix\n",
    "from sklearn.metrics import classification_report"
   ]
  },
  {
   "cell_type": "code",
   "execution_count": 9,
   "metadata": {},
   "outputs": [
    {
     "data": {
      "text/plain": [
       "(24777,)"
      ]
     },
     "execution_count": 9,
     "metadata": {},
     "output_type": "execute_result"
    }
   ],
   "source": [
    "preds = logits_matrix.argmax(axis=1)\n",
    "preds.shape"
   ]
  },
  {
   "cell_type": "code",
   "execution_count": 10,
   "metadata": {},
   "outputs": [],
   "source": [
    "target_names = [class_to_idx[i] for i in range(int(len(class_to_idx) / 2))]"
   ]
  },
  {
   "cell_type": "code",
   "execution_count": 11,
   "metadata": {},
   "outputs": [
    {
     "data": {
      "text/plain": [
       "['Approaching something with your camera',\n",
       " 'Attaching something to something',\n",
       " 'Bending something so that it deforms',\n",
       " 'Bending something until it breaks',\n",
       " 'Burying something in something',\n",
       " 'Closing something',\n",
       " 'Covering something with something',\n",
       " 'Digging something out of something',\n",
       " 'Dropping something behind something',\n",
       " 'Dropping something in front of something',\n",
       " 'Dropping something into something',\n",
       " 'Dropping something next to something',\n",
       " 'Dropping something onto something',\n",
       " 'Failing to put something into something because something does not fit',\n",
       " 'Folding something',\n",
       " 'Hitting something with something',\n",
       " 'Holding something',\n",
       " 'Holding something behind something',\n",
       " 'Holding something in front of something',\n",
       " 'Holding something next to something',\n",
       " 'Holding something over something',\n",
       " 'Laying something on the table on its side, not upright',\n",
       " 'Letting something roll along a flat surface',\n",
       " 'Letting something roll down a slanted surface',\n",
       " 'Letting something roll up a slanted surface, so it rolls back down',\n",
       " 'Lifting a surface with something on it but not enough for it to slide down',\n",
       " 'Lifting a surface with something on it until it starts sliding down',\n",
       " 'Lifting something up completely without letting it drop down',\n",
       " 'Lifting something up completely, then letting it drop down',\n",
       " 'Lifting something with something on it',\n",
       " 'Lifting up one end of something without letting it drop down',\n",
       " 'Lifting up one end of something, then letting it drop down',\n",
       " 'Moving away from something with your camera',\n",
       " 'Moving part of something',\n",
       " 'Moving something across a surface until it falls down',\n",
       " 'Moving something across a surface without it falling down',\n",
       " 'Moving something and something away from each other',\n",
       " 'Moving something and something closer to each other',\n",
       " 'Moving something and something so they collide with each other',\n",
       " 'Moving something and something so they pass each other',\n",
       " 'Moving something away from something',\n",
       " 'Moving something away from the camera',\n",
       " 'Moving something closer to something',\n",
       " 'Moving something down',\n",
       " 'Moving something towards the camera',\n",
       " 'Moving something up',\n",
       " 'Opening something',\n",
       " 'Picking something up',\n",
       " 'Piling something up',\n",
       " 'Plugging something into something',\n",
       " 'Plugging something into something but pulling it right out as you remove your hand',\n",
       " 'Poking a hole into some substance',\n",
       " 'Poking a hole into something soft',\n",
       " 'Poking a stack of something so the stack collapses',\n",
       " 'Poking a stack of something without the stack collapsing',\n",
       " 'Poking something so it slightly moves',\n",
       " \"Poking something so lightly that it doesn't or almost doesn't move\",\n",
       " 'Poking something so that it falls over',\n",
       " 'Poking something so that it spins around',\n",
       " 'Pouring something into something',\n",
       " 'Pouring something into something until it overflows',\n",
       " 'Pouring something onto something',\n",
       " 'Pouring something out of something',\n",
       " 'Pretending or failing to wipe something off of something',\n",
       " 'Pretending or trying and failing to twist something',\n",
       " 'Pretending to be tearing something that is not tearable',\n",
       " 'Pretending to close something without actually closing it',\n",
       " 'Pretending to open something without actually opening it',\n",
       " 'Pretending to pick something up',\n",
       " 'Pretending to poke something',\n",
       " 'Pretending to pour something out of something, but something is empty',\n",
       " 'Pretending to put something behind something',\n",
       " 'Pretending to put something into something',\n",
       " 'Pretending to put something next to something',\n",
       " 'Pretending to put something on a surface',\n",
       " 'Pretending to put something onto something',\n",
       " 'Pretending to put something underneath something',\n",
       " 'Pretending to scoop something up with something',\n",
       " 'Pretending to spread air onto something',\n",
       " 'Pretending to sprinkle air onto something',\n",
       " 'Pretending to squeeze something',\n",
       " 'Pretending to take something from somewhere',\n",
       " 'Pretending to take something out of something',\n",
       " 'Pretending to throw something',\n",
       " 'Pretending to turn something upside down',\n",
       " 'Pulling something from behind of something',\n",
       " 'Pulling something from left to right',\n",
       " 'Pulling something from right to left',\n",
       " 'Pulling something onto something',\n",
       " 'Pulling something out of something',\n",
       " 'Pulling two ends of something but nothing happens',\n",
       " 'Pulling two ends of something so that it gets stretched',\n",
       " 'Pulling two ends of something so that it separates into two pieces',\n",
       " 'Pushing something from left to right',\n",
       " 'Pushing something from right to left',\n",
       " 'Pushing something off of something',\n",
       " 'Pushing something onto something',\n",
       " 'Pushing something so it spins',\n",
       " \"Pushing something so that it almost falls off but doesn't\",\n",
       " 'Pushing something so that it falls off the table',\n",
       " 'Pushing something so that it slightly moves',\n",
       " 'Pushing something with something',\n",
       " 'Putting number of something onto something',\n",
       " 'Putting something and something on the table',\n",
       " 'Putting something behind something',\n",
       " 'Putting something in front of something',\n",
       " 'Putting something into something',\n",
       " 'Putting something next to something',\n",
       " 'Putting something on a flat surface without letting it roll',\n",
       " 'Putting something on a surface',\n",
       " 'Putting something on the edge of something so it is not supported and falls down',\n",
       " \"Putting something onto a slanted surface but it doesn't glide down\",\n",
       " 'Putting something onto something',\n",
       " 'Putting something onto something else that cannot support it so it falls down',\n",
       " 'Putting something similar to other things that are already on the table',\n",
       " \"Putting something that can't roll onto a slanted surface, so it slides down\",\n",
       " \"Putting something that can't roll onto a slanted surface, so it stays where it is\",\n",
       " 'Putting something that cannot actually stand upright upright on the table, so it falls on its side',\n",
       " 'Putting something underneath something',\n",
       " 'Putting something upright on the table',\n",
       " 'Putting something, something and something on the table',\n",
       " 'Removing something, revealing something behind',\n",
       " 'Rolling something on a flat surface',\n",
       " 'Scooping something up with something',\n",
       " 'Showing a photo of something to the camera',\n",
       " 'Showing something behind something',\n",
       " 'Showing something next to something',\n",
       " 'Showing something on top of something',\n",
       " 'Showing something to the camera',\n",
       " 'Showing that something is empty',\n",
       " 'Showing that something is inside something',\n",
       " 'Something being deflected from something',\n",
       " 'Something colliding with something and both are being deflected',\n",
       " 'Something colliding with something and both come to a halt',\n",
       " 'Something falling like a feather or paper',\n",
       " 'Something falling like a rock',\n",
       " 'Spilling something behind something',\n",
       " 'Spilling something next to something',\n",
       " 'Spilling something onto something',\n",
       " 'Spinning something so it continues spinning',\n",
       " 'Spinning something that quickly stops spinning',\n",
       " 'Spreading something onto something',\n",
       " 'Sprinkling something onto something',\n",
       " 'Squeezing something',\n",
       " 'Stacking number of something',\n",
       " 'Stuffing something into something',\n",
       " 'Taking one of many similar things on the table',\n",
       " 'Taking something from somewhere',\n",
       " 'Taking something out of something',\n",
       " 'Tearing something into two pieces',\n",
       " 'Tearing something just a little bit',\n",
       " 'Throwing something',\n",
       " 'Throwing something against something',\n",
       " 'Throwing something in the air and catching it',\n",
       " 'Throwing something in the air and letting it fall',\n",
       " 'Throwing something onto a surface',\n",
       " \"Tilting something with something on it slightly so it doesn't fall down\",\n",
       " 'Tilting something with something on it until it falls off',\n",
       " 'Tipping something over',\n",
       " 'Tipping something with something in it over, so something in it falls out',\n",
       " 'Touching (without moving) part of something',\n",
       " \"Trying but failing to attach something to something because it doesn't stick\",\n",
       " 'Trying to bend something unbendable so nothing happens',\n",
       " 'Trying to pour something into something, but missing so it spills next to it',\n",
       " 'Turning something upside down',\n",
       " 'Turning the camera downwards while filming something',\n",
       " 'Turning the camera left while filming something',\n",
       " 'Turning the camera right while filming something',\n",
       " 'Turning the camera upwards while filming something',\n",
       " 'Twisting (wringing) something wet until water comes out',\n",
       " 'Twisting something',\n",
       " 'Uncovering something',\n",
       " 'Unfolding something',\n",
       " 'Wiping something off of something']"
      ]
     },
     "execution_count": 11,
     "metadata": {},
     "output_type": "execute_result"
    }
   ],
   "source": [
    "target_names"
   ]
  },
  {
   "cell_type": "code",
   "execution_count": 12,
   "metadata": {},
   "outputs": [],
   "source": [
    "report = classification_report(targets_list, preds, target_names=target_names)"
   ]
  },
  {
   "cell_type": "code",
   "execution_count": 13,
   "metadata": {},
   "outputs": [],
   "source": [
    "confusion_mat = confusion_matrix(targets_list, preds)"
   ]
  },
  {
   "cell_type": "code",
   "execution_count": 14,
   "metadata": {
    "scrolled": true
   },
   "outputs": [
    {
     "data": {
      "text/plain": [
       "array([[103,   0,   0, ...,   0,   0,   0],\n",
       "       [  0,  20,   1, ...,   0,   0,   0],\n",
       "       [  0,   0,  47, ...,   1,   1,   0],\n",
       "       ...,\n",
       "       [  0,   0,   1, ..., 202,  12,   0],\n",
       "       [  0,   2,   0, ...,   5, 126,   0],\n",
       "       [  0,   0,   0, ...,   1,   0,  65]])"
      ]
     },
     "execution_count": 14,
     "metadata": {},
     "output_type": "execute_result"
    }
   ],
   "source": [
    "confusion_mat"
   ]
  },
  {
   "cell_type": "code",
   "execution_count": 15,
   "metadata": {},
   "outputs": [
    {
     "data": {
      "text/plain": [
       "(174, 174)"
      ]
     },
     "execution_count": 15,
     "metadata": {},
     "output_type": "execute_result"
    }
   ],
   "source": [
    "confusion_mat.shape"
   ]
  },
  {
   "cell_type": "code",
   "execution_count": 16,
   "metadata": {},
   "outputs": [],
   "source": [
    "confusions = {}\n",
    "for i in range(174):\n",
    "    support = np.sum(confusion_mat[i])\n",
    "    for j in range(174):\n",
    "        if i != j:\n",
    "            confusions['{}:{}'.format(i, j)] = (confusion_mat[i, j] / support) * 100"
   ]
  },
  {
   "cell_type": "code",
   "execution_count": 17,
   "metadata": {},
   "outputs": [],
   "source": [
    "# sort confusions\n",
    "import operator\n",
    "confusions_sorted = sorted(confusions.items(), key=operator.itemgetter(1), reverse=True)"
   ]
  },
  {
   "cell_type": "markdown",
   "metadata": {},
   "source": [
    "### Top-K confusions"
   ]
  },
  {
   "cell_type": "code",
   "execution_count": 18,
   "metadata": {},
   "outputs": [],
   "source": [
    "K = 20"
   ]
  },
  {
   "cell_type": "code",
   "execution_count": 19,
   "metadata": {
    "scrolled": true
   },
   "outputs": [
    {
     "name": "stdout",
     "output_type": "stream",
     "text": [
      "Moving something across a surface until it falls down --> Pushing something so that it falls off the table:\t55.42%\n",
      "Throwing something onto a surface --> Throwing something:\t43.90%\n",
      "Pushing something off of something --> Pushing something so that it falls off the table:\t41.67%\n",
      "Letting something roll along a flat surface --> Rolling something on a flat surface:\t40.12%\n",
      "Pouring something onto something --> Pouring something into something:\t35.29%\n",
      "Pouring something into something until it overflows --> Pouring something into something:\t34.00%\n",
      "Poking a stack of something without the stack collapsing --> Touching (without moving) part of something:\t33.33%\n",
      "Pulling something out of something --> Taking something out of something:\t32.53%\n",
      "Pretending to take something from somewhere --> Pretending to pick something up:\t32.00%\n",
      "Lifting a surface with something on it but not enough for it to slide down --> Tilting something with something on it slightly so it doesn't fall down:\t31.58%\n",
      "Poking something so it slightly moves --> Pushing something so that it slightly moves:\t31.33%\n",
      "Pretending to put something behind something --> Putting something behind something:\t30.43%\n",
      "Lifting a surface with something on it until it starts sliding down --> Tilting something with something on it until it falls off:\t30.00%\n",
      "Spilling something next to something --> Pouring something into something:\t30.00%\n",
      "Pretending to poke something --> Poking something so lightly that it doesn't or almost doesn't move:\t29.00%\n",
      "Poking a stack of something so the stack collapses --> Poking something so that it falls over:\t28.57%\n",
      "Piling something up --> Stacking number of something:\t27.95%\n",
      "Putting something on a flat surface without letting it roll --> Putting something on a surface:\t27.03%\n",
      "Spilling something onto something --> Pouring something into something:\t25.69%\n",
      "Laying something on the table on its side, not upright --> Putting something on a surface:\t25.44%\n"
     ]
    }
   ],
   "source": [
    "for i in range(K):\n",
    "    elem = confusions_sorted[i]\n",
    "    y_true = int(elem[0].split(\":\")[0])\n",
    "    y_pred = int(elem[0].split(\":\")[1])\n",
    "    print(\"{} --> {}:\\t{:.2f}%\".format(class_to_idx[y_true], class_to_idx[y_pred], elem[1]))"
   ]
  },
  {
   "cell_type": "markdown",
   "metadata": {},
   "source": [
    "### Top-K pretending confusions"
   ]
  },
  {
   "cell_type": "code",
   "execution_count": 20,
   "metadata": {},
   "outputs": [
    {
     "name": "stdout",
     "output_type": "stream",
     "text": [
      "Pretending to take something from somewhere --> Pretending to pick something up:\t32.00%\n",
      "Pretending to put something behind something --> Putting something behind something:\t30.43%\n",
      "Pretending to poke something --> Poking something so lightly that it doesn't or almost doesn't move:\t29.00%\n",
      "Pretending to turn something upside down --> Turning something upside down:\t22.67%\n",
      "Pretending to squeeze something --> Squeezing something:\t21.88%\n",
      "Pretending or trying and failing to twist something --> Trying to bend something unbendable so nothing happens:\t21.62%\n",
      "Pretending or trying and failing to twist something --> Twisting something:\t21.62%\n",
      "Pretending to scoop something up with something --> Scooping something up with something:\t19.23%\n",
      "Pretending to close something without actually closing it --> Pretending to open something without actually opening it:\t18.87%\n",
      "Spilling something behind something --> Pretending to put something behind something:\t17.65%\n"
     ]
    }
   ],
   "source": [
    "k = 10\n",
    "i = 0\n",
    "while k > 0 and i < len(confusions_sorted):\n",
    "    elem = confusions_sorted[i]\n",
    "    y_true = class_to_idx[int(elem[0].split(\":\")[0])]\n",
    "    y_pred = class_to_idx[int(elem[0].split(\":\")[1])]\n",
    "    if (\"Pretending\" in y_true or \"pretending\" in y_true or\n",
    "        \"Pretending\" in y_pred or \"pretending\" in y_pred):\n",
    "        print(\"{} --> {}:\\t{:.2f}%\".format(y_true, y_pred, elem[1]))\n",
    "        k -= 1\n",
    "    i += 1\n",
    "    "
   ]
  }
 ],
 "metadata": {
  "kernelspec": {
   "display_name": "Python 3",
   "language": "python",
   "name": "python3"
  },
  "language_info": {
   "codemirror_mode": {
    "name": "ipython",
    "version": 3
   },
   "file_extension": ".py",
   "mimetype": "text/x-python",
   "name": "python",
   "nbconvert_exporter": "python",
   "pygments_lexer": "ipython3",
   "version": "3.6.5"
  }
 },
 "nbformat": 4,
 "nbformat_minor": 2
}
